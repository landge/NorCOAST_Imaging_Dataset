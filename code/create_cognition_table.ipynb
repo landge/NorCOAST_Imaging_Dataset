{
 "cells": [
  {
   "cell_type": "code",
   "execution_count": 1,
   "metadata": {},
   "outputs": [],
   "source": [
    "import pandas as pd"
   ]
  },
  {
   "cell_type": "code",
   "execution_count": 2,
   "metadata": {},
   "outputs": [],
   "source": [
    "cognition_df = pd.read_csv('cognition.csv')"
   ]
  },
  {
   "cell_type": "code",
   "execution_count": 17,
   "metadata": {},
   "outputs": [],
   "source": [
    "def create_sub_id(row):\n",
    "    match row['Hosp']:\n",
    "        case 'St. Olavs Hospital':\n",
    "            return 'sub-400'+str(row['pNo']).zfill(3)\n",
    "        case 'Haukeland Universitetssykehus':\n",
    "            return 'sub-300'+str(row['pNo']).zfill(3)\n",
    "        case 'Vestre Viken HF, Sykehuset Asker og Bær':\n",
    "            return 'sub-221'+str(row['pNo']).zfill(3)\n",
    "        case 'Oslo Universitetssykehus, Ullevål':\n",
    "            return 'sub-100'+str(row['pNo']).zfill(3)\n",
    "        case 'Ålesund sykehus':\n",
    "            return 'sub-410'+str(row['pNo']).zfill(3)"
   ]
  },
  {
   "cell_type": "code",
   "execution_count": 27,
   "metadata": {},
   "outputs": [],
   "source": [
    "def create_cognition_variable(row):\n",
    "    if row['cognitive_status_model_b_T1'] != ' ':\n",
    "        return 'Cognitive testing T1'\n",
    "    elif row['cognitive_status_model_b_T2'] != ' ':\n",
    "        return 'Cognitive testing T2'"
   ]
  },
  {
   "cell_type": "code",
   "execution_count": 21,
   "metadata": {},
   "outputs": [],
   "source": [
    "t1_t2 = cognition_df[['pNo','Hosp','cognitive_status_model_b_T1','cognitive_status_model_b_T2']].copy()"
   ]
  },
  {
   "cell_type": "code",
   "execution_count": 22,
   "metadata": {},
   "outputs": [],
   "source": [
    "t1_t2.loc[:,'subject-id'] = t1_t2.apply(lambda row: create_sub_id(row), axis=1)"
   ]
  },
  {
   "cell_type": "code",
   "execution_count": 28,
   "metadata": {},
   "outputs": [],
   "source": [
    "t1_t2['Cognitive testing'] = t1_t2.apply(lambda row: create_cognition_variable(row), axis=1)"
   ]
  },
  {
   "cell_type": "code",
   "execution_count": 29,
   "metadata": {},
   "outputs": [
    {
     "data": {
      "text/html": [
       "<div>\n",
       "<style scoped>\n",
       "    .dataframe tbody tr th:only-of-type {\n",
       "        vertical-align: middle;\n",
       "    }\n",
       "\n",
       "    .dataframe tbody tr th {\n",
       "        vertical-align: top;\n",
       "    }\n",
       "\n",
       "    .dataframe thead th {\n",
       "        text-align: right;\n",
       "    }\n",
       "</style>\n",
       "<table border=\"1\" class=\"dataframe\">\n",
       "  <thead>\n",
       "    <tr style=\"text-align: right;\">\n",
       "      <th></th>\n",
       "      <th>pNo</th>\n",
       "      <th>Hosp</th>\n",
       "      <th>cognitive_status_model_b_T1</th>\n",
       "      <th>cognitive_status_model_b_T2</th>\n",
       "      <th>subject-id</th>\n",
       "      <th>Cognitive testing</th>\n",
       "    </tr>\n",
       "  </thead>\n",
       "  <tbody>\n",
       "    <tr>\n",
       "      <th>0</th>\n",
       "      <td>1</td>\n",
       "      <td>St. Olavs Hospital</td>\n",
       "      <td>0</td>\n",
       "      <td>1</td>\n",
       "      <td>sub-400001</td>\n",
       "      <td>Cognitive testing T1</td>\n",
       "    </tr>\n",
       "    <tr>\n",
       "      <th>1</th>\n",
       "      <td>2</td>\n",
       "      <td>St. Olavs Hospital</td>\n",
       "      <td>2</td>\n",
       "      <td>1</td>\n",
       "      <td>sub-400002</td>\n",
       "      <td>Cognitive testing T1</td>\n",
       "    </tr>\n",
       "    <tr>\n",
       "      <th>2</th>\n",
       "      <td>3</td>\n",
       "      <td>St. Olavs Hospital</td>\n",
       "      <td>1</td>\n",
       "      <td>0</td>\n",
       "      <td>sub-400003</td>\n",
       "      <td>Cognitive testing T1</td>\n",
       "    </tr>\n",
       "    <tr>\n",
       "      <th>3</th>\n",
       "      <td>4</td>\n",
       "      <td>St. Olavs Hospital</td>\n",
       "      <td>0</td>\n",
       "      <td></td>\n",
       "      <td>sub-400004</td>\n",
       "      <td>Cognitive testing T1</td>\n",
       "    </tr>\n",
       "    <tr>\n",
       "      <th>4</th>\n",
       "      <td>5</td>\n",
       "      <td>St. Olavs Hospital</td>\n",
       "      <td></td>\n",
       "      <td></td>\n",
       "      <td>sub-400005</td>\n",
       "      <td>None</td>\n",
       "    </tr>\n",
       "  </tbody>\n",
       "</table>\n",
       "</div>"
      ],
      "text/plain": [
       "   pNo                Hosp cognitive_status_model_b_T1  \\\n",
       "0    1  St. Olavs Hospital                           0   \n",
       "1    2  St. Olavs Hospital                           2   \n",
       "2    3  St. Olavs Hospital                           1   \n",
       "3    4  St. Olavs Hospital                           0   \n",
       "4    5  St. Olavs Hospital                               \n",
       "\n",
       "  cognitive_status_model_b_T2  subject-id     Cognitive testing  \n",
       "0                           1  sub-400001  Cognitive testing T1  \n",
       "1                           1  sub-400002  Cognitive testing T1  \n",
       "2                           0  sub-400003  Cognitive testing T1  \n",
       "3                              sub-400004  Cognitive testing T1  \n",
       "4                              sub-400005                  None  "
      ]
     },
     "execution_count": 29,
     "metadata": {},
     "output_type": "execute_result"
    }
   ],
   "source": [
    "t1_t2.head()"
   ]
  },
  {
   "cell_type": "code",
   "execution_count": 30,
   "metadata": {},
   "outputs": [],
   "source": [
    "t1_t2.to_csv('cognition_table.csv')"
   ]
  },
  {
   "cell_type": "code",
   "execution_count": null,
   "metadata": {},
   "outputs": [],
   "source": []
  }
 ],
 "metadata": {
  "kernelspec": {
   "display_name": "datalad",
   "language": "python",
   "name": "python3"
  },
  "language_info": {
   "codemirror_mode": {
    "name": "ipython",
    "version": 3
   },
   "file_extension": ".py",
   "mimetype": "text/x-python",
   "name": "python",
   "nbconvert_exporter": "python",
   "pygments_lexer": "ipython3",
   "version": "3.11.0"
  },
  "orig_nbformat": 4
 },
 "nbformat": 4,
 "nbformat_minor": 2
}
