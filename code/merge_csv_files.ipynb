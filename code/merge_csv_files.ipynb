{
 "cells": [
  {
   "cell_type": "code",
   "execution_count": 1,
   "metadata": {},
   "outputs": [],
   "source": [
    "import pandas as pd"
   ]
  },
  {
   "cell_type": "code",
   "execution_count": 88,
   "metadata": {},
   "outputs": [],
   "source": [
    "import numpy as np"
   ]
  },
  {
   "cell_type": "code",
   "execution_count": 3,
   "metadata": {},
   "outputs": [],
   "source": [
    "base_imaging_data = pd.read_csv('imaging_data.csv')\n",
    "st_olav_36 = pd.read_csv('st_olav_36.csv')\n",
    "freesurfer = pd.read_csv('freesurfer_and_bianca_results.csv')"
   ]
  },
  {
   "cell_type": "code",
   "execution_count": 48,
   "metadata": {},
   "outputs": [
    {
     "data": {
      "text/html": [
       "<div>\n",
       "<style scoped>\n",
       "    .dataframe tbody tr th:only-of-type {\n",
       "        vertical-align: middle;\n",
       "    }\n",
       "\n",
       "    .dataframe tbody tr th {\n",
       "        vertical-align: top;\n",
       "    }\n",
       "\n",
       "    .dataframe thead th {\n",
       "        text-align: right;\n",
       "    }\n",
       "</style>\n",
       "<table border=\"1\" class=\"dataframe\">\n",
       "  <thead>\n",
       "    <tr style=\"text-align: right;\">\n",
       "      <th></th>\n",
       "      <th>Unnamed: 0</th>\n",
       "      <th>subject-id</th>\n",
       "      <th>stolav_36</th>\n",
       "      <th>timepoint</th>\n",
       "      <th>Type of imaging</th>\n",
       "    </tr>\n",
       "  </thead>\n",
       "  <tbody>\n",
       "    <tr>\n",
       "      <th>0</th>\n",
       "      <td>0</td>\n",
       "      <td>sub-400639</td>\n",
       "      <td>True</td>\n",
       "      <td>36-mon-follow-up</td>\n",
       "      <td>MR</td>\n",
       "    </tr>\n",
       "    <tr>\n",
       "      <th>1</th>\n",
       "      <td>1</td>\n",
       "      <td>sub-400460</td>\n",
       "      <td>True</td>\n",
       "      <td>36-mon-follow-up</td>\n",
       "      <td>MR</td>\n",
       "    </tr>\n",
       "    <tr>\n",
       "      <th>2</th>\n",
       "      <td>2</td>\n",
       "      <td>sub-400778</td>\n",
       "      <td>True</td>\n",
       "      <td>36-mon-follow-up</td>\n",
       "      <td>MR</td>\n",
       "    </tr>\n",
       "    <tr>\n",
       "      <th>3</th>\n",
       "      <td>3</td>\n",
       "      <td>sub-400698</td>\n",
       "      <td>True</td>\n",
       "      <td>36-mon-follow-up</td>\n",
       "      <td>MR</td>\n",
       "    </tr>\n",
       "    <tr>\n",
       "      <th>4</th>\n",
       "      <td>4</td>\n",
       "      <td>sub-400175</td>\n",
       "      <td>True</td>\n",
       "      <td>36-mon-follow-up</td>\n",
       "      <td>MR</td>\n",
       "    </tr>\n",
       "  </tbody>\n",
       "</table>\n",
       "</div>"
      ],
      "text/plain": [
       "   Unnamed: 0  subject-id  stolav_36         timepoint Type of imaging\n",
       "0           0  sub-400639       True  36-mon-follow-up              MR\n",
       "1           1  sub-400460       True  36-mon-follow-up              MR\n",
       "2           2  sub-400778       True  36-mon-follow-up              MR\n",
       "3           3  sub-400698       True  36-mon-follow-up              MR\n",
       "4           4  sub-400175       True  36-mon-follow-up              MR"
      ]
     },
     "execution_count": 48,
     "metadata": {},
     "output_type": "execute_result"
    }
   ],
   "source": [
    "st_olav_36.head()"
   ]
  },
  {
   "cell_type": "code",
   "execution_count": 47,
   "metadata": {},
   "outputs": [],
   "source": [
    "st_olav_36['timepoint'] = '36-mon-follow-up'\n",
    "st_olav_36['Type of imaging'] = 'MR'"
   ]
  },
  {
   "cell_type": "code",
   "execution_count": 9,
   "metadata": {},
   "outputs": [],
   "source": [
    "def covert_modality(modality):\n",
    "    if not 'CT' in modality:\n",
    "        return 'MR'\n",
    "    else:\n",
    "        return 'CT'"
   ]
  },
  {
   "cell_type": "code",
   "execution_count": 49,
   "metadata": {},
   "outputs": [],
   "source": [
    "st_36 = st_olav_36[['subject-id', 'timepoint', 'Type of imaging']]"
   ]
  },
  {
   "cell_type": "code",
   "execution_count": 35,
   "metadata": {},
   "outputs": [],
   "source": [
    "def define_hosp(subject_id):\n",
    "    match subject_id[:7]:\n",
    "        case 'sub-100':\n",
    "            return 'Ullevål'\n",
    "        case 'sub-221':\n",
    "            return 'Bærum'\n",
    "        case 'sub-400':\n",
    "            return 'St. Olav'\n",
    "        case 'sub-300':\n",
    "            return 'Haukeland'\n",
    "        case 'sub-410':\n",
    "            return 'Ålesund'"
   ]
  },
  {
   "cell_type": "code",
   "execution_count": 52,
   "metadata": {},
   "outputs": [],
   "source": [
    "merged_imaging_data = pd.concat([base_imaging_data, st_36])"
   ]
  },
  {
   "cell_type": "code",
   "execution_count": 37,
   "metadata": {},
   "outputs": [],
   "source": [
    "base_imaging_data['Hospital'] = base_imaging_data['subject-id'].apply(define_hosp)"
   ]
  },
  {
   "cell_type": "code",
   "execution_count": 28,
   "metadata": {},
   "outputs": [],
   "source": [
    "base_imaging_data['Type of imaging'] = base_imaging_data['modality'].apply(covert_modality)"
   ]
  },
  {
   "cell_type": "code",
   "execution_count": 41,
   "metadata": {},
   "outputs": [
    {
     "data": {
      "text/plain": [
       "array(['Bærum'], dtype=object)"
      ]
     },
     "execution_count": 41,
     "metadata": {},
     "output_type": "execute_result"
    }
   ],
   "source": [
    "base_imaging_data.loc[base_imaging_data['timepoint'] == '36-mon-follow-up', ['subject-id','timepoint','Hospital']]['Hospital'].unique()"
   ]
  },
  {
   "cell_type": "code",
   "execution_count": 39,
   "metadata": {},
   "outputs": [
    {
     "data": {
      "text/plain": [
       "array(['Ullevål', 'St. Olav', 'Bærum', 'Haukeland', None, 'Ålesund'],\n",
       "      dtype=object)"
      ]
     },
     "execution_count": 39,
     "metadata": {},
     "output_type": "execute_result"
    }
   ],
   "source": [
    "base_imaging_data['Hospital'].unique()"
   ]
  },
  {
   "cell_type": "code",
   "execution_count": 53,
   "metadata": {},
   "outputs": [
    {
     "data": {
      "text/html": [
       "<div>\n",
       "<style scoped>\n",
       "    .dataframe tbody tr th:only-of-type {\n",
       "        vertical-align: middle;\n",
       "    }\n",
       "\n",
       "    .dataframe tbody tr th {\n",
       "        vertical-align: top;\n",
       "    }\n",
       "\n",
       "    .dataframe thead th {\n",
       "        text-align: right;\n",
       "    }\n",
       "</style>\n",
       "<table border=\"1\" class=\"dataframe\">\n",
       "  <thead>\n",
       "    <tr style=\"text-align: right;\">\n",
       "      <th></th>\n",
       "      <th>Unnamed: 0</th>\n",
       "      <th>pno</th>\n",
       "      <th>time</th>\n",
       "      <th>hosp</th>\n",
       "      <th>wmh_vol_bianca_ml_t0</th>\n",
       "      <th>freesurfer_t0</th>\n",
       "      <th>freesurfer_t2</th>\n",
       "      <th>freesurfer_t3</th>\n",
       "      <th>subject-id</th>\n",
       "      <th>hosp-id</th>\n",
       "      <th>timepoint</th>\n",
       "    </tr>\n",
       "  </thead>\n",
       "  <tbody>\n",
       "    <tr>\n",
       "      <th>0</th>\n",
       "      <td>0</td>\n",
       "      <td>1</td>\n",
       "      <td>0</td>\n",
       "      <td>St. Olavs Hospital</td>\n",
       "      <td>NaN</td>\n",
       "      <td>NaN</td>\n",
       "      <td>NaN</td>\n",
       "      <td>NaN</td>\n",
       "      <td>sub-400001</td>\n",
       "      <td>sub-400</td>\n",
       "      <td>ses-study-MR</td>\n",
       "    </tr>\n",
       "    <tr>\n",
       "      <th>1</th>\n",
       "      <td>1</td>\n",
       "      <td>1</td>\n",
       "      <td>1</td>\n",
       "      <td>St. Olavs Hospital</td>\n",
       "      <td>NaN</td>\n",
       "      <td>NaN</td>\n",
       "      <td>NaN</td>\n",
       "      <td>NaN</td>\n",
       "      <td>sub-400001</td>\n",
       "      <td>sub-400</td>\n",
       "      <td>3-mon-follow-up</td>\n",
       "    </tr>\n",
       "    <tr>\n",
       "      <th>2</th>\n",
       "      <td>2</td>\n",
       "      <td>1</td>\n",
       "      <td>2</td>\n",
       "      <td>St. Olavs Hospital</td>\n",
       "      <td>NaN</td>\n",
       "      <td>NaN</td>\n",
       "      <td>NaN</td>\n",
       "      <td>NaN</td>\n",
       "      <td>sub-400001</td>\n",
       "      <td>sub-400</td>\n",
       "      <td>18-mon-follow-up</td>\n",
       "    </tr>\n",
       "    <tr>\n",
       "      <th>3</th>\n",
       "      <td>3</td>\n",
       "      <td>2</td>\n",
       "      <td>0</td>\n",
       "      <td>St. Olavs Hospital</td>\n",
       "      <td>NaN</td>\n",
       "      <td>NaN</td>\n",
       "      <td>NaN</td>\n",
       "      <td>NaN</td>\n",
       "      <td>sub-400002</td>\n",
       "      <td>sub-400</td>\n",
       "      <td>ses-study-MR</td>\n",
       "    </tr>\n",
       "    <tr>\n",
       "      <th>4</th>\n",
       "      <td>4</td>\n",
       "      <td>2</td>\n",
       "      <td>1</td>\n",
       "      <td>St. Olavs Hospital</td>\n",
       "      <td>NaN</td>\n",
       "      <td>NaN</td>\n",
       "      <td>NaN</td>\n",
       "      <td>NaN</td>\n",
       "      <td>sub-400002</td>\n",
       "      <td>sub-400</td>\n",
       "      <td>3-mon-follow-up</td>\n",
       "    </tr>\n",
       "  </tbody>\n",
       "</table>\n",
       "</div>"
      ],
      "text/plain": [
       "   Unnamed: 0  pno  time                hosp  wmh_vol_bianca_ml_t0  \\\n",
       "0           0    1     0  St. Olavs Hospital                   NaN   \n",
       "1           1    1     1  St. Olavs Hospital                   NaN   \n",
       "2           2    1     2  St. Olavs Hospital                   NaN   \n",
       "3           3    2     0  St. Olavs Hospital                   NaN   \n",
       "4           4    2     1  St. Olavs Hospital                   NaN   \n",
       "\n",
       "   freesurfer_t0  freesurfer_t2  freesurfer_t3  subject-id  hosp-id  \\\n",
       "0            NaN            NaN            NaN  sub-400001  sub-400   \n",
       "1            NaN            NaN            NaN  sub-400001  sub-400   \n",
       "2            NaN            NaN            NaN  sub-400001  sub-400   \n",
       "3            NaN            NaN            NaN  sub-400002  sub-400   \n",
       "4            NaN            NaN            NaN  sub-400002  sub-400   \n",
       "\n",
       "          timepoint  \n",
       "0      ses-study-MR  \n",
       "1   3-mon-follow-up  \n",
       "2  18-mon-follow-up  \n",
       "3      ses-study-MR  \n",
       "4   3-mon-follow-up  "
      ]
     },
     "execution_count": 53,
     "metadata": {},
     "output_type": "execute_result"
    }
   ],
   "source": [
    "freesurfer.head()"
   ]
  },
  {
   "cell_type": "code",
   "execution_count": 54,
   "metadata": {},
   "outputs": [],
   "source": [
    "free_df = freesurfer[['subject-id', 'timepoint', 'wmh_vol_bianca_ml_t0', 'freesurfer_t0', 'freesurfer_t2','freesurfer_t3']]"
   ]
  },
  {
   "cell_type": "code",
   "execution_count": 71,
   "metadata": {},
   "outputs": [],
   "source": [
    "free_df.to_csv('fresesurfer_sorted.csv')"
   ]
  },
  {
   "cell_type": "code",
   "execution_count": 72,
   "metadata": {},
   "outputs": [],
   "source": [
    "postprocess = pd.melt(free_df, id_vars=['subject-id', 'timepoint'], value_vars=['wmh_vol_bianca_ml_t0', 'freesurfer_t0', 'freesurfer_t2','freesurfer_t3'], var_name='Postprocessing type', value_name='Postprocessing done')"
   ]
  },
  {
   "cell_type": "code",
   "execution_count": 73,
   "metadata": {},
   "outputs": [],
   "source": [
    "postprocess['Postprocessing'] = postprocess.loc[postprocess['Postprocessing done'].notna(), 'Postprocessing type']"
   ]
  },
  {
   "cell_type": "code",
   "execution_count": 109,
   "metadata": {},
   "outputs": [],
   "source": [
    "def correct_timepoint(row):\n",
    "    if not pd.isnull(row['Postprocessing']):\n",
    "        if 't0' in row['Postprocessing']:\n",
    "            return 'ses-study-MR'\n",
    "        elif 't2' in row['Postprocessing']:\n",
    "            return '18-mon-follow-up'\n",
    "        elif 't3' in row['Postprocessing']:\n",
    "            return '36-mon-follow-up'"
   ]
  },
  {
   "cell_type": "code",
   "execution_count": 113,
   "metadata": {},
   "outputs": [
    {
     "data": {
      "text/html": [
       "<div>\n",
       "<style scoped>\n",
       "    .dataframe tbody tr th:only-of-type {\n",
       "        vertical-align: middle;\n",
       "    }\n",
       "\n",
       "    .dataframe tbody tr th {\n",
       "        vertical-align: top;\n",
       "    }\n",
       "\n",
       "    .dataframe thead th {\n",
       "        text-align: right;\n",
       "    }\n",
       "</style>\n",
       "<table border=\"1\" class=\"dataframe\">\n",
       "  <thead>\n",
       "    <tr style=\"text-align: right;\">\n",
       "      <th></th>\n",
       "      <th>Postprocessing</th>\n",
       "      <th>timepoint</th>\n",
       "    </tr>\n",
       "  </thead>\n",
       "  <tbody>\n",
       "    <tr>\n",
       "      <th>66</th>\n",
       "      <td>wmh_vol_bianca_ml_t0</td>\n",
       "      <td>ses-study-MR</td>\n",
       "    </tr>\n",
       "    <tr>\n",
       "      <th>67</th>\n",
       "      <td>wmh_vol_bianca_ml_t0</td>\n",
       "      <td>ses-study-MR</td>\n",
       "    </tr>\n",
       "    <tr>\n",
       "      <th>68</th>\n",
       "      <td>wmh_vol_bianca_ml_t0</td>\n",
       "      <td>ses-study-MR</td>\n",
       "    </tr>\n",
       "    <tr>\n",
       "      <th>101</th>\n",
       "      <td>wmh_vol_bianca_ml_t0</td>\n",
       "      <td>ses-study-MR</td>\n",
       "    </tr>\n",
       "    <tr>\n",
       "      <th>102</th>\n",
       "      <td>wmh_vol_bianca_ml_t0</td>\n",
       "      <td>ses-study-MR</td>\n",
       "    </tr>\n",
       "    <tr>\n",
       "      <th>...</th>\n",
       "      <td>...</td>\n",
       "      <td>...</td>\n",
       "    </tr>\n",
       "    <tr>\n",
       "      <th>10545</th>\n",
       "      <td>freesurfer_t3</td>\n",
       "      <td>36-mon-follow-up</td>\n",
       "    </tr>\n",
       "    <tr>\n",
       "      <th>10597</th>\n",
       "      <td>freesurfer_t3</td>\n",
       "      <td>36-mon-follow-up</td>\n",
       "    </tr>\n",
       "    <tr>\n",
       "      <th>10598</th>\n",
       "      <td>freesurfer_t3</td>\n",
       "      <td>36-mon-follow-up</td>\n",
       "    </tr>\n",
       "    <tr>\n",
       "      <th>10599</th>\n",
       "      <td>freesurfer_t3</td>\n",
       "      <td>36-mon-follow-up</td>\n",
       "    </tr>\n",
       "    <tr>\n",
       "      <th>10600</th>\n",
       "      <td>freesurfer_t3</td>\n",
       "      <td>36-mon-follow-up</td>\n",
       "    </tr>\n",
       "  </tbody>\n",
       "</table>\n",
       "<p>3497 rows × 2 columns</p>\n",
       "</div>"
      ],
      "text/plain": [
       "             Postprocessing         timepoint\n",
       "66     wmh_vol_bianca_ml_t0      ses-study-MR\n",
       "67     wmh_vol_bianca_ml_t0      ses-study-MR\n",
       "68     wmh_vol_bianca_ml_t0      ses-study-MR\n",
       "101    wmh_vol_bianca_ml_t0      ses-study-MR\n",
       "102    wmh_vol_bianca_ml_t0      ses-study-MR\n",
       "...                     ...               ...\n",
       "10545         freesurfer_t3  36-mon-follow-up\n",
       "10597         freesurfer_t3  36-mon-follow-up\n",
       "10598         freesurfer_t3  36-mon-follow-up\n",
       "10599         freesurfer_t3  36-mon-follow-up\n",
       "10600         freesurfer_t3  36-mon-follow-up\n",
       "\n",
       "[3497 rows x 2 columns]"
      ]
     },
     "execution_count": 113,
     "metadata": {},
     "output_type": "execute_result"
    }
   ],
   "source": [
    "postprocess.loc[postprocess['Postprocessing'].notna(), ['Postprocessing', 'timepoint']]"
   ]
  },
  {
   "cell_type": "code",
   "execution_count": 110,
   "metadata": {},
   "outputs": [],
   "source": [
    "postprocess['timepoint'] = postprocess.apply(lambda row: correct_timepoint(row), axis=1)"
   ]
  },
  {
   "cell_type": "code",
   "execution_count": 120,
   "metadata": {},
   "outputs": [],
   "source": [
    "freesurfer_cleaned_results = postprocess.loc[postprocess['Postprocessing'].notna(), ['subject-id','timepoint','Postprocessing']].drop_duplicates().head()"
   ]
  },
  {
   "cell_type": "code",
   "execution_count": 121,
   "metadata": {},
   "outputs": [
    {
     "data": {
      "text/html": [
       "<div>\n",
       "<style scoped>\n",
       "    .dataframe tbody tr th:only-of-type {\n",
       "        vertical-align: middle;\n",
       "    }\n",
       "\n",
       "    .dataframe tbody tr th {\n",
       "        vertical-align: top;\n",
       "    }\n",
       "\n",
       "    .dataframe thead th {\n",
       "        text-align: right;\n",
       "    }\n",
       "</style>\n",
       "<table border=\"1\" class=\"dataframe\">\n",
       "  <thead>\n",
       "    <tr style=\"text-align: right;\">\n",
       "      <th></th>\n",
       "      <th>subject-id</th>\n",
       "      <th>timepoint</th>\n",
       "      <th>Postprocessing</th>\n",
       "    </tr>\n",
       "  </thead>\n",
       "  <tbody>\n",
       "    <tr>\n",
       "      <th>66</th>\n",
       "      <td>sub-400022</td>\n",
       "      <td>ses-study-MR</td>\n",
       "      <td>wmh_vol_bianca_ml_t0</td>\n",
       "    </tr>\n",
       "    <tr>\n",
       "      <th>101</th>\n",
       "      <td>sub-400033</td>\n",
       "      <td>ses-study-MR</td>\n",
       "      <td>wmh_vol_bianca_ml_t0</td>\n",
       "    </tr>\n",
       "    <tr>\n",
       "      <th>112</th>\n",
       "      <td>sub-400036</td>\n",
       "      <td>ses-study-MR</td>\n",
       "      <td>wmh_vol_bianca_ml_t0</td>\n",
       "    </tr>\n",
       "    <tr>\n",
       "      <th>119</th>\n",
       "      <td>sub-400038</td>\n",
       "      <td>ses-study-MR</td>\n",
       "      <td>wmh_vol_bianca_ml_t0</td>\n",
       "    </tr>\n",
       "    <tr>\n",
       "      <th>130</th>\n",
       "      <td>sub-400042</td>\n",
       "      <td>ses-study-MR</td>\n",
       "      <td>wmh_vol_bianca_ml_t0</td>\n",
       "    </tr>\n",
       "  </tbody>\n",
       "</table>\n",
       "</div>"
      ],
      "text/plain": [
       "     subject-id     timepoint        Postprocessing\n",
       "66   sub-400022  ses-study-MR  wmh_vol_bianca_ml_t0\n",
       "101  sub-400033  ses-study-MR  wmh_vol_bianca_ml_t0\n",
       "112  sub-400036  ses-study-MR  wmh_vol_bianca_ml_t0\n",
       "119  sub-400038  ses-study-MR  wmh_vol_bianca_ml_t0\n",
       "130  sub-400042  ses-study-MR  wmh_vol_bianca_ml_t0"
      ]
     },
     "execution_count": 121,
     "metadata": {},
     "output_type": "execute_result"
    }
   ],
   "source": [
    "freesurfer_cleaned_results"
   ]
  },
  {
   "cell_type": "code",
   "execution_count": 124,
   "metadata": {},
   "outputs": [],
   "source": [
    "base_imaging_data = pd.concat([base_imaging_data, freesurfer_cleaned_results])"
   ]
  },
  {
   "cell_type": "code",
   "execution_count": 125,
   "metadata": {},
   "outputs": [],
   "source": [
    "base_imaging_data.to_csv('merged_imaging_data.csv', index=False)"
   ]
  },
  {
   "cell_type": "code",
   "execution_count": null,
   "metadata": {},
   "outputs": [],
   "source": []
  }
 ],
 "metadata": {
  "kernelspec": {
   "display_name": "datalad",
   "language": "python",
   "name": "python3"
  },
  "language_info": {
   "codemirror_mode": {
    "name": "ipython",
    "version": 3
   },
   "file_extension": ".py",
   "mimetype": "text/x-python",
   "name": "python",
   "nbconvert_exporter": "python",
   "pygments_lexer": "ipython3",
   "version": "3.11.0"
  },
  "orig_nbformat": 4
 },
 "nbformat": 4,
 "nbformat_minor": 2
}
