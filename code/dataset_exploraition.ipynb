{
 "cells": [
  {
   "cell_type": "code",
   "execution_count": 1,
   "metadata": {},
   "outputs": [],
   "source": [
    "import pandas as pd"
   ]
  },
  {
   "cell_type": "code",
   "execution_count": 2,
   "metadata": {},
   "outputs": [
    {
     "data": {
      "text/html": [
       "<div>\n",
       "<style scoped>\n",
       "    .dataframe tbody tr th:only-of-type {\n",
       "        vertical-align: middle;\n",
       "    }\n",
       "\n",
       "    .dataframe tbody tr th {\n",
       "        vertical-align: top;\n",
       "    }\n",
       "\n",
       "    .dataframe thead th {\n",
       "        text-align: right;\n",
       "    }\n",
       "</style>\n",
       "<table border=\"1\" class=\"dataframe\">\n",
       "  <thead>\n",
       "    <tr style=\"text-align: right;\">\n",
       "      <th></th>\n",
       "      <th>subject-id</th>\n",
       "      <th>timepoint</th>\n",
       "      <th>modality</th>\n",
       "      <th>file-name</th>\n",
       "      <th>file-path</th>\n",
       "      <th>examintaion</th>\n",
       "      <th>order</th>\n",
       "    </tr>\n",
       "  </thead>\n",
       "  <tbody>\n",
       "    <tr>\n",
       "      <th>0</th>\n",
       "      <td>sub-100426</td>\n",
       "      <td>ses-clinical</td>\n",
       "      <td>CT-1</td>\n",
       "      <td>sub-100426_ses-clinical_CT-1_Tilt_1</td>\n",
       "      <td>../the_complete_NorCOAST_dataset/sub-100426/se...</td>\n",
       "      <td>1</td>\n",
       "      <td>1</td>\n",
       "    </tr>\n",
       "    <tr>\n",
       "      <th>1</th>\n",
       "      <td>sub-100426</td>\n",
       "      <td>ses-clinical</td>\n",
       "      <td>CT-1</td>\n",
       "      <td>sub-100426_ses-clinical_CT-1</td>\n",
       "      <td>../the_complete_NorCOAST_dataset/sub-100426/se...</td>\n",
       "      <td>CT-1</td>\n",
       "      <td>1</td>\n",
       "    </tr>\n",
       "    <tr>\n",
       "      <th>2</th>\n",
       "      <td>sub-100426</td>\n",
       "      <td>ses-clinical</td>\n",
       "      <td>CT-1</td>\n",
       "      <td>sub-100426_ses-clinical_CT-1</td>\n",
       "      <td>../the_complete_NorCOAST_dataset/sub-100426/se...</td>\n",
       "      <td>CT-1</td>\n",
       "      <td>1</td>\n",
       "    </tr>\n",
       "    <tr>\n",
       "      <th>3</th>\n",
       "      <td>sub-100426</td>\n",
       "      <td>18-mon-follow-up</td>\n",
       "      <td>DWI</td>\n",
       "      <td>sub-100426_18-month-follow-up_DWI</td>\n",
       "      <td>../the_complete_NorCOAST_dataset/sub-100426/18...</td>\n",
       "      <td>DWI</td>\n",
       "      <td>4</td>\n",
       "    </tr>\n",
       "    <tr>\n",
       "      <th>4</th>\n",
       "      <td>sub-100426</td>\n",
       "      <td>18-mon-follow-up</td>\n",
       "      <td>DWI</td>\n",
       "      <td>sub-100426_18-month-follow-up_DWI</td>\n",
       "      <td>../the_complete_NorCOAST_dataset/sub-100426/18...</td>\n",
       "      <td>DWI</td>\n",
       "      <td>4</td>\n",
       "    </tr>\n",
       "  </tbody>\n",
       "</table>\n",
       "</div>"
      ],
      "text/plain": [
       "   subject-id         timepoint modality                            file-name   \n",
       "0  sub-100426      ses-clinical     CT-1  sub-100426_ses-clinical_CT-1_Tilt_1  \\\n",
       "1  sub-100426      ses-clinical     CT-1         sub-100426_ses-clinical_CT-1   \n",
       "2  sub-100426      ses-clinical     CT-1         sub-100426_ses-clinical_CT-1   \n",
       "3  sub-100426  18-mon-follow-up      DWI    sub-100426_18-month-follow-up_DWI   \n",
       "4  sub-100426  18-mon-follow-up      DWI    sub-100426_18-month-follow-up_DWI   \n",
       "\n",
       "                                           file-path examintaion  order  \n",
       "0  ../the_complete_NorCOAST_dataset/sub-100426/se...           1      1  \n",
       "1  ../the_complete_NorCOAST_dataset/sub-100426/se...        CT-1      1  \n",
       "2  ../the_complete_NorCOAST_dataset/sub-100426/se...        CT-1      1  \n",
       "3  ../the_complete_NorCOAST_dataset/sub-100426/18...         DWI      4  \n",
       "4  ../the_complete_NorCOAST_dataset/sub-100426/18...         DWI      4  "
      ]
     },
     "execution_count": 2,
     "metadata": {},
     "output_type": "execute_result"
    }
   ],
   "source": [
    "data = pd.read_csv('imaging_data.csv')\n",
    "data.head()"
   ]
  },
  {
   "cell_type": "code",
   "execution_count": 18,
   "metadata": {},
   "outputs": [],
   "source": [
    "timepoint_36 = data.loc[data['timepoint'] == '36-mon-follow-up']"
   ]
  },
  {
   "cell_type": "code",
   "execution_count": 39,
   "metadata": {},
   "outputs": [],
   "source": [
    "timepoint_36.loc[\"location\"] = timepoint_36.loc[timepoint_36[\"subject-id\"].notna(),\"subject-id\"].map(lambda x: x[0:7])"
   ]
  },
  {
   "cell_type": "code",
   "execution_count": 40,
   "metadata": {},
   "outputs": [
    {
     "data": {
      "text/html": [
       "<div>\n",
       "<style scoped>\n",
       "    .dataframe tbody tr th:only-of-type {\n",
       "        vertical-align: middle;\n",
       "    }\n",
       "\n",
       "    .dataframe tbody tr th {\n",
       "        vertical-align: top;\n",
       "    }\n",
       "\n",
       "    .dataframe thead th {\n",
       "        text-align: right;\n",
       "    }\n",
       "</style>\n",
       "<table border=\"1\" class=\"dataframe\">\n",
       "  <thead>\n",
       "    <tr style=\"text-align: right;\">\n",
       "      <th></th>\n",
       "      <th>subject-id</th>\n",
       "      <th>timepoint</th>\n",
       "      <th>modality</th>\n",
       "      <th>file-name</th>\n",
       "      <th>file-path</th>\n",
       "      <th>examintaion</th>\n",
       "      <th>order</th>\n",
       "      <th>location</th>\n",
       "    </tr>\n",
       "  </thead>\n",
       "  <tbody>\n",
       "    <tr>\n",
       "      <th>136</th>\n",
       "      <td>sub-221444</td>\n",
       "      <td>36-mon-follow-up</td>\n",
       "      <td>DWI</td>\n",
       "      <td>sub-221444_36-month-follow-up_DWIa</td>\n",
       "      <td>../the_complete_NorCOAST_dataset/sub-221444/36...</td>\n",
       "      <td>DWIa</td>\n",
       "      <td>4.0</td>\n",
       "      <td>sub-221</td>\n",
       "    </tr>\n",
       "    <tr>\n",
       "      <th>137</th>\n",
       "      <td>sub-221444</td>\n",
       "      <td>36-mon-follow-up</td>\n",
       "      <td>DWI</td>\n",
       "      <td>sub-221444_36-month-follow-up_DWIa_ADC</td>\n",
       "      <td>../the_complete_NorCOAST_dataset/sub-221444/36...</td>\n",
       "      <td>ADC</td>\n",
       "      <td>4.0</td>\n",
       "      <td>sub-221</td>\n",
       "    </tr>\n",
       "    <tr>\n",
       "      <th>138</th>\n",
       "      <td>sub-221444</td>\n",
       "      <td>36-mon-follow-up</td>\n",
       "      <td>DWI</td>\n",
       "      <td>sub-221444_36-month-follow-up_DWIa</td>\n",
       "      <td>../the_complete_NorCOAST_dataset/sub-221444/36...</td>\n",
       "      <td>DWIa</td>\n",
       "      <td>4.0</td>\n",
       "      <td>sub-221</td>\n",
       "    </tr>\n",
       "    <tr>\n",
       "      <th>139</th>\n",
       "      <td>sub-221444</td>\n",
       "      <td>36-mon-follow-up</td>\n",
       "      <td>DWI</td>\n",
       "      <td>sub-221444_36-month-follow-up_DWI</td>\n",
       "      <td>../the_complete_NorCOAST_dataset/sub-221444/36...</td>\n",
       "      <td>DWI</td>\n",
       "      <td>4.0</td>\n",
       "      <td>sub-221</td>\n",
       "    </tr>\n",
       "    <tr>\n",
       "      <th>140</th>\n",
       "      <td>sub-221444</td>\n",
       "      <td>36-mon-follow-up</td>\n",
       "      <td>DWI</td>\n",
       "      <td>sub-221444_36-month-follow-up_DWI</td>\n",
       "      <td>../the_complete_NorCOAST_dataset/sub-221444/36...</td>\n",
       "      <td>DWI</td>\n",
       "      <td>4.0</td>\n",
       "      <td>sub-221</td>\n",
       "    </tr>\n",
       "  </tbody>\n",
       "</table>\n",
       "</div>"
      ],
      "text/plain": [
       "     subject-id         timepoint modality   \n",
       "136  sub-221444  36-mon-follow-up      DWI  \\\n",
       "137  sub-221444  36-mon-follow-up      DWI   \n",
       "138  sub-221444  36-mon-follow-up      DWI   \n",
       "139  sub-221444  36-mon-follow-up      DWI   \n",
       "140  sub-221444  36-mon-follow-up      DWI   \n",
       "\n",
       "                                  file-name   \n",
       "136      sub-221444_36-month-follow-up_DWIa  \\\n",
       "137  sub-221444_36-month-follow-up_DWIa_ADC   \n",
       "138      sub-221444_36-month-follow-up_DWIa   \n",
       "139       sub-221444_36-month-follow-up_DWI   \n",
       "140       sub-221444_36-month-follow-up_DWI   \n",
       "\n",
       "                                             file-path examintaion  order   \n",
       "136  ../the_complete_NorCOAST_dataset/sub-221444/36...        DWIa    4.0  \\\n",
       "137  ../the_complete_NorCOAST_dataset/sub-221444/36...         ADC    4.0   \n",
       "138  ../the_complete_NorCOAST_dataset/sub-221444/36...        DWIa    4.0   \n",
       "139  ../the_complete_NorCOAST_dataset/sub-221444/36...         DWI    4.0   \n",
       "140  ../the_complete_NorCOAST_dataset/sub-221444/36...         DWI    4.0   \n",
       "\n",
       "    location  \n",
       "136  sub-221  \n",
       "137  sub-221  \n",
       "138  sub-221  \n",
       "139  sub-221  \n",
       "140  sub-221  "
      ]
     },
     "execution_count": 40,
     "metadata": {},
     "output_type": "execute_result"
    }
   ],
   "source": [
    "timepoint_36.head()"
   ]
  },
  {
   "cell_type": "code",
   "execution_count": 42,
   "metadata": {},
   "outputs": [
    {
     "data": {
      "text/plain": [
       "array(['sub-221', nan], dtype=object)"
      ]
     },
     "execution_count": 42,
     "metadata": {},
     "output_type": "execute_result"
    }
   ],
   "source": [
    "timepoint_36[\"location\"].unique()"
   ]
  },
  {
   "cell_type": "code",
   "execution_count": null,
   "metadata": {},
   "outputs": [],
   "source": []
  }
 ],
 "metadata": {
  "kernelspec": {
   "display_name": "datalad",
   "language": "python",
   "name": "python3"
  },
  "language_info": {
   "codemirror_mode": {
    "name": "ipython",
    "version": 3
   },
   "file_extension": ".py",
   "mimetype": "text/x-python",
   "name": "python",
   "nbconvert_exporter": "python",
   "pygments_lexer": "ipython3",
   "version": "3.11.3"
  },
  "orig_nbformat": 4
 },
 "nbformat": 4,
 "nbformat_minor": 2
}
